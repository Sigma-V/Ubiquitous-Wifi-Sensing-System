{
 "cells": [
  {
   "cell_type": "code",
   "execution_count": 56,
   "metadata": {},
   "outputs": [],
   "source": [
    "#importing all the libraries \n",
    "import numpy as np \n",
    "import pandas as pd \n",
    "import os \n",
    "import joblib as jb\n",
    "from collections import defaultdict\n",
    "from itertools import groupby\n",
    "from math import sqrt, atan2\n",
    "import matplotlib.pyplot as plt\n",
    "from scipy.signal import savgol_filter\n",
    "from sklearn.feature_selection import SelectKBest\n",
    "from sklearn.feature_selection import f_classif\n",
    "from sklearn.model_selection import train_test_split\n",
    "import tensorflow as tf\n",
    "from sklearn.preprocessing import OneHotEncoder\n",
    "from sklearn.metrics import confusion_matrix, accuracy_score, f1_score\n",
    "from tensorflow.keras.layers import Input, Flatten, Dropout, Dense, Concatenate\n",
    "from tensorflow.keras.models import Model\n",
    "from tcn import TCN\n",
    "from sklearn.metrics import f1_score\n",
    "from sklearn.metrics import log_loss\n"
   ]
  },
  {
   "cell_type": "code",
   "execution_count": 4,
   "metadata": {},
   "outputs": [
    {
     "name": "stderr",
     "output_type": "stream",
     "text": [
      "Failed to detect the name of this notebook, you can set it manually with the WANDB_NOTEBOOK_NAME environment variable to enable code saving.\n",
      "\u001b[34m\u001b[1mwandb\u001b[0m: Currently logged in as: \u001b[33mpratham21082\u001b[0m (\u001b[33mpratham_03\u001b[0m). Use \u001b[1m`wandb login --relogin`\u001b[0m to force relogin\n"
     ]
    },
    {
     "data": {
      "text/plain": [
       "True"
      ]
     },
     "execution_count": 4,
     "metadata": {},
     "output_type": "execute_result"
    }
   ],
   "source": [
    "import wandb\n",
    "wandb.login()"
   ]
  },
  {
   "cell_type": "code",
   "execution_count": 5,
   "metadata": {},
   "outputs": [
    {
     "data": {
      "text/html": [
       "wandb version 0.17.5 is available!  To upgrade, please run:\n",
       " $ pip install wandb --upgrade"
      ],
      "text/plain": [
       "<IPython.core.display.HTML object>"
      ]
     },
     "metadata": {},
     "output_type": "display_data"
    },
    {
     "data": {
      "text/html": [
       "Tracking run with wandb version 0.17.3"
      ],
      "text/plain": [
       "<IPython.core.display.HTML object>"
      ]
     },
     "metadata": {},
     "output_type": "display_data"
    },
    {
     "data": {
      "text/html": [
       "Run data is saved locally in <code>/home/vijay/paper_jc/Varun's Work/wandb/run-20240729_082036-f3820vfq</code>"
      ],
      "text/plain": [
       "<IPython.core.display.HTML object>"
      ]
     },
     "metadata": {},
     "output_type": "display_data"
    },
    {
     "data": {
      "text/html": [
       "Syncing run <strong><a href='https://wandb.ai/pratham_03/ISAC_2_TCN/runs/f3820vfq' target=\"_blank\">Phase1_ph_new (5 epochs)</a></strong> to <a href='https://wandb.ai/pratham_03/ISAC_2_TCN' target=\"_blank\">Weights & Biases</a> (<a href='https://wandb.me/run' target=\"_blank\">docs</a>)<br/>"
      ],
      "text/plain": [
       "<IPython.core.display.HTML object>"
      ]
     },
     "metadata": {},
     "output_type": "display_data"
    },
    {
     "data": {
      "text/html": [
       " View project at <a href='https://wandb.ai/pratham_03/ISAC_2_TCN' target=\"_blank\">https://wandb.ai/pratham_03/ISAC_2_TCN</a>"
      ],
      "text/plain": [
       "<IPython.core.display.HTML object>"
      ]
     },
     "metadata": {},
     "output_type": "display_data"
    },
    {
     "data": {
      "text/html": [
       " View run at <a href='https://wandb.ai/pratham_03/ISAC_2_TCN/runs/f3820vfq' target=\"_blank\">https://wandb.ai/pratham_03/ISAC_2_TCN/runs/f3820vfq</a>"
      ],
      "text/plain": [
       "<IPython.core.display.HTML object>"
      ]
     },
     "metadata": {},
     "output_type": "display_data"
    },
    {
     "data": {
      "text/html": [
       "<button onClick=\"this.nextSibling.style.display='block';this.style.display='none';\">Display W&B run</button><iframe src='https://wandb.ai/pratham_03/ISAC_2_TCN/runs/f3820vfq?jupyter=true' style='border:none;width:100%;height:420px;display:none;'></iframe>"
      ],
      "text/plain": [
       "<wandb.sdk.wandb_run.Run at 0x7ff3c5937c90>"
      ]
     },
     "execution_count": 5,
     "metadata": {},
     "output_type": "execute_result"
    }
   ],
   "source": [
    "wandb.init(project = \"ISAC_2_TCN\",name=\"Phase1_ph_new (5 epochs)\")"
   ]
  },
  {
   "cell_type": "code",
   "execution_count": 24,
   "metadata": {},
   "outputs": [],
   "source": [
    "path = '/home/vijay/paper_jc/conference/phase1_ph_student_label'\n",
    "all_files=[]\n",
    "for subfolder in os.listdir(path):\n",
    "        subfolder_path = os.path.join(path, subfolder)\n",
    "        if os.path.isdir(subfolder_path):\n",
    "            files = os.listdir(subfolder_path)\n",
    "            files.sort()\n",
    "            for file in files:\n",
    "                file_path = os.path.join(subfolder_path, file)\n",
    "                df = pd.read_csv(file_path, index_col=0)\n",
    "                all_files.append(df)\n",
    "\n",
    "    "
   ]
  },
  {
   "cell_type": "code",
   "execution_count": 26,
   "metadata": {},
   "outputs": [
    {
     "name": "stdout",
     "output_type": "stream",
     "text": [
      "False\n"
     ]
    }
   ],
   "source": [
    "df = pd.concat(all_files, axis=0 )\n",
    "df  = df.reset_index(drop=True)\n",
    "print(df.isnull().values.any())\n",
    "Y = df['headlabel']\n",
    "X = df.iloc[0:,0:-1]\n",
    "selector = SelectKBest(f_classif, k=25)\n",
    "csi_feature_25 = selector.fit_transform(X, Y)"
   ]
  },
  {
   "cell_type": "code",
   "execution_count": 27,
   "metadata": {},
   "outputs": [
    {
     "data": {
      "text/plain": [
       "(1970832, 5, 5)"
      ]
     },
     "execution_count": 27,
     "metadata": {},
     "output_type": "execute_result"
    }
   ],
   "source": [
    "csi_feature_5X5=np.reshape(csi_feature_25,(csi_feature_25.shape[0],5,5))\n",
    "csi_feature_5X5.shape"
   ]
  },
  {
   "cell_type": "code",
   "execution_count": 28,
   "metadata": {},
   "outputs": [],
   "source": [
    "Y = pd.DataFrame(Y)\n",
    "onehot_encoder = OneHotEncoder()\n",
    "csi_headlabel= onehot_encoder.fit_transform(Y)"
   ]
  },
  {
   "cell_type": "code",
   "execution_count": 29,
   "metadata": {},
   "outputs": [],
   "source": [
    "\n",
    "X_train, X_ , y_train,y_ = train_test_split(csi_feature_5X5, csi_headlabel, test_size=0.4, random_state=42)\n",
    "X_test, X_val, y_test, y_val=train_test_split(X_, y_, test_size=0.5, random_state=42)"
   ]
  },
  {
   "cell_type": "code",
   "execution_count": 44,
   "metadata": {},
   "outputs": [],
   "source": [
    "def csi_network_inc_res(input_sh, output_sh):\n",
    "    # input_shape = (340, 100)\n",
    "    nb_filters = 64\n",
    "    x_input = Input(input_sh)\n",
    "    tcn1 = TCN(\n",
    "        nb_filters=nb_filters,\n",
    "        nb_stacks = 1,\n",
    "        kernel_size=10,\n",
    "        dilations=(1, 2, 4, 8, 16),\n",
    "        use_layer_norm=True,\n",
    "    )\n",
    "    tcn2 = TCN(\n",
    "        nb_filters=nb_filters,\n",
    "        nb_stacks = 1,\n",
    "        kernel_size=10,\n",
    "        dilations=(1,2, 4, 8, 16,32),\n",
    "        use_layer_norm=True,\n",
    "    )\n",
    "    tcn3 = TCN(\n",
    "        nb_filters=nb_filters,\n",
    "        nb_stacks = 1,\n",
    "        kernel_size=10,\n",
    "        dilations=(2, 4, 8, 16,32,64),\n",
    "        use_layer_norm=True,\n",
    "    )\n",
    "    x = tcn1(x_input)\n",
    "    print(f'TCN.receptive_field: {tcn1.receptive_field}.')\n",
    "    x = tcn2(x_input)\n",
    "    print(f'TCN.receptive_field: {tcn2.receptive_field}.')\n",
    "    x = tcn3(x_input)\n",
    "    print(f'TCN.receptive_field: {tcn3.receptive_field}.')\n",
    "    \n",
    "    x = tf.keras.layers.Flatten()(x)\n",
    "    x = tf.keras.layers.Dropout(0.2)(x)\n",
    "    x = tf.keras.layers.Dense(output_sh, activation='sigmoid', name='dense')(x)\n",
    "    \n",
    "    model = Model(inputs=x_input, outputs=x, name='csi_model')\n",
    "    return model"
   ]
  },
  {
   "cell_type": "code",
   "execution_count": 46,
   "metadata": {},
   "outputs": [
    {
     "name": "stdout",
     "output_type": "stream",
     "text": [
      "TCN.receptive_field: 559.\n",
      "TCN.receptive_field: 1135.\n",
      "TCN.receptive_field: 2269.\n",
      "Epoch 1/3\n",
      "11825/11825 [==============================] - 271s 22ms/step - loss: 0.1646 - accuracy: 0.9514 - val_loss: 0.0313 - val_accuracy: 0.9914\n",
      "Epoch 2/3\n",
      "   52/11825 [..............................] - ETA: 3:23 - loss: 0.0603 - accuracy: 0.9835"
     ]
    },
    {
     "name": "stderr",
     "output_type": "stream",
     "text": [
      "\u001b[34m\u001b[1mwandb\u001b[0m: \u001b[33mWARNING\u001b[0m (User provided step: 0 is less than current step: 4. Dropping entry: {'loss': 0.16464577615261078, 'accuracy': 0.9514063000679016, 'val_loss': 0.031344857066869736, 'val_accuracy': 0.991386890411377, '_timestamp': 1722243341.2507956}).\n"
     ]
    },
    {
     "name": "stdout",
     "output_type": "stream",
     "text": [
      "11825/11825 [==============================] - 262s 22ms/step - loss: 0.0371 - accuracy: 0.9901 - val_loss: 0.0162 - val_accuracy: 0.9955\n",
      "Epoch 3/3\n",
      "   28/11825 [..............................] - ETA: 3:59 - loss: 0.0253 - accuracy: 0.9950"
     ]
    },
    {
     "name": "stderr",
     "output_type": "stream",
     "text": [
      "\u001b[34m\u001b[1mwandb\u001b[0m: \u001b[33mWARNING\u001b[0m (User provided step: 1 is less than current step: 4. Dropping entry: {'loss': 0.03706025332212448, 'accuracy': 0.9900820255279541, 'val_loss': 0.016223786398768425, 'val_accuracy': 0.9955323338508606, '_timestamp': 1722243603.6235664}).\n"
     ]
    },
    {
     "name": "stdout",
     "output_type": "stream",
     "text": [
      "11825/11825 [==============================] - 269s 23ms/step - loss: 0.0224 - accuracy: 0.9941 - val_loss: 0.0086 - val_accuracy: 0.9976\n"
     ]
    },
    {
     "data": {
      "text/plain": [
       "<keras.src.callbacks.History at 0x7ff3b720fa50>"
      ]
     },
     "execution_count": 46,
     "metadata": {},
     "output_type": "execute_result"
    },
    {
     "name": "stderr",
     "output_type": "stream",
     "text": [
      "\u001b[34m\u001b[1mwandb\u001b[0m: \u001b[33mWARNING\u001b[0m (User provided step: 2 is less than current step: 4. Dropping entry: {'loss': 0.022441569715738297, 'accuracy': 0.9941200613975525, 'val_loss': 0.008613589219748974, 'val_accuracy': 0.9976202845573425, '_timestamp': 1722243872.160073}).\n"
     ]
    }
   ],
   "source": [
    "model=csi_network_inc_res((5, 5), 7)\n",
    "def log_metrics(epoch, logs):\n",
    "\n",
    "    wandb.log(logs, step=epoch)\n",
    "\n",
    "wandb_callback = tf.keras.callbacks.LambdaCallback(on_epoch_end=log_metrics)\n",
    "\n",
    "model.compile(\n",
    "    optimizer=tf.keras.optimizers.Adam(learning_rate=0.001),\n",
    "    loss='categorical_crossentropy',\n",
    "    metrics=['accuracy']\n",
    ")\n",
    "\n",
    "model.fit( X_train,y_train, batch_size=100,epochs=3,validation_data=[X_val, y_val], callbacks=[\n",
    "        tf.keras.callbacks.ModelCheckpoint('/home/vijay/paper_jc/conference/models/ph1_tcn.hdf5',\n",
    "                                            monitor='val_accuracy',\n",
    "                                            save_best_only=True,\n",
    "                                            save_weights_only=False),\n",
    "        wandb_callback\n",
    "    ])"
   ]
  }
 ],
 "metadata": {
  "kernelspec": {
   "display_name": "base",
   "language": "python",
   "name": "python3"
  },
  "language_info": {
   "codemirror_mode": {
    "name": "ipython",
    "version": 3
   },
   "file_extension": ".py",
   "mimetype": "text/x-python",
   "name": "python",
   "nbconvert_exporter": "python",
   "pygments_lexer": "ipython3",
   "version": "3.11.5"
  }
 },
 "nbformat": 4,
 "nbformat_minor": 2
}
