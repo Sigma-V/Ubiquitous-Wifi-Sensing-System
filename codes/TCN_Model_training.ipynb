{
 "cells": [
  {
   "cell_type": "code",
   "execution_count": 1,
   "metadata": {},
   "outputs": [
    {
     "name": "stderr",
     "output_type": "stream",
     "text": [
      "2024-08-05 07:33:24.611472: E external/local_xla/xla/stream_executor/cuda/cuda_dnn.cc:9261] Unable to register cuDNN factory: Attempting to register factory for plugin cuDNN when one has already been registered\n",
      "2024-08-05 07:33:24.611509: E external/local_xla/xla/stream_executor/cuda/cuda_fft.cc:607] Unable to register cuFFT factory: Attempting to register factory for plugin cuFFT when one has already been registered\n",
      "2024-08-05 07:33:24.612802: E external/local_xla/xla/stream_executor/cuda/cuda_blas.cc:1515] Unable to register cuBLAS factory: Attempting to register factory for plugin cuBLAS when one has already been registered\n",
      "2024-08-05 07:33:24.619056: I tensorflow/core/platform/cpu_feature_guard.cc:182] This TensorFlow binary is optimized to use available CPU instructions in performance-critical operations.\n",
      "To enable the following instructions: AVX2 FMA, in other operations, rebuild TensorFlow with the appropriate compiler flags.\n",
      "2024-08-05 07:33:25.290007: W tensorflow/compiler/tf2tensorrt/utils/py_utils.cc:38] TF-TRT Warning: Could not find TensorRT\n"
     ]
    }
   ],
   "source": [
    "#importing all the libraries \n",
    "import numpy as np \n",
    "import pandas as pd \n",
    "import os \n",
    "import joblib as jb\n",
    "from collections import defaultdict\n",
    "from itertools import groupby\n",
    "from math import sqrt, atan2\n",
    "import matplotlib.pyplot as plt\n",
    "from scipy.signal import savgol_filter\n",
    "from sklearn.feature_selection import SelectKBest\n",
    "from sklearn.feature_selection import f_classif\n",
    "from sklearn.model_selection import train_test_split\n",
    "import tensorflow as tf\n",
    "from sklearn.preprocessing import OneHotEncoder\n",
    "from sklearn.metrics import confusion_matrix, accuracy_score, f1_score\n",
    "from tensorflow.keras.layers import Input, Flatten, Dropout, Dense, Concatenate\n",
    "from tensorflow.keras.models import Model\n",
    "from tcn import TCN\n",
    "from sklearn.metrics import f1_score\n",
    "from sklearn.metrics import log_loss\n"
   ]
  },
  {
   "cell_type": "code",
   "execution_count": 2,
   "metadata": {},
   "outputs": [
    {
     "name": "stderr",
     "output_type": "stream",
     "text": [
      "Failed to detect the name of this notebook, you can set it manually with the WANDB_NOTEBOOK_NAME environment variable to enable code saving.\n",
      "\u001b[34m\u001b[1mwandb\u001b[0m: Currently logged in as: \u001b[33mpratham21082\u001b[0m (\u001b[33mpratham_03\u001b[0m). Use \u001b[1m`wandb login --relogin`\u001b[0m to force relogin\n"
     ]
    },
    {
     "data": {
      "text/plain": [
       "True"
      ]
     },
     "execution_count": 2,
     "metadata": {},
     "output_type": "execute_result"
    }
   ],
   "source": [
    "import wandb\n",
    "wandb.login()"
   ]
  },
  {
   "cell_type": "code",
   "execution_count": 3,
   "metadata": {},
   "outputs": [
    {
     "data": {
      "application/vnd.jupyter.widget-view+json": {
       "model_id": "8698a55f92084ca7a3a4493584702871",
       "version_major": 2,
       "version_minor": 0
      },
      "text/plain": [
       "VBox(children=(Label(value='Waiting for wandb.init()...\\r'), FloatProgress(value=0.011114526550388998, max=1.0…"
      ]
     },
     "metadata": {},
     "output_type": "display_data"
    },
    {
     "data": {
      "text/html": [
       "wandb version 0.17.5 is available!  To upgrade, please run:\n",
       " $ pip install wandb --upgrade"
      ],
      "text/plain": [
       "<IPython.core.display.HTML object>"
      ]
     },
     "metadata": {},
     "output_type": "display_data"
    },
    {
     "data": {
      "text/html": [
       "Tracking run with wandb version 0.17.3"
      ],
      "text/plain": [
       "<IPython.core.display.HTML object>"
      ]
     },
     "metadata": {},
     "output_type": "display_data"
    },
    {
     "data": {
      "text/html": [
       "Run data is saved locally in <code>/home/vijay/paper_jc/varun/wandb/run-20240805_073331-cud5m5cw</code>"
      ],
      "text/plain": [
       "<IPython.core.display.HTML object>"
      ]
     },
     "metadata": {},
     "output_type": "display_data"
    },
    {
     "data": {
      "text/html": [
       "Syncing run <strong><a href='https://wandb.ai/pratham_03/ISAC_2_TCN/runs/cud5m5cw' target=\"_blank\">Phase1_ph_new (5 epochs)</a></strong> to <a href='https://wandb.ai/pratham_03/ISAC_2_TCN' target=\"_blank\">Weights & Biases</a> (<a href='https://wandb.me/run' target=\"_blank\">docs</a>)<br/>"
      ],
      "text/plain": [
       "<IPython.core.display.HTML object>"
      ]
     },
     "metadata": {},
     "output_type": "display_data"
    },
    {
     "data": {
      "text/html": [
       " View project at <a href='https://wandb.ai/pratham_03/ISAC_2_TCN' target=\"_blank\">https://wandb.ai/pratham_03/ISAC_2_TCN</a>"
      ],
      "text/plain": [
       "<IPython.core.display.HTML object>"
      ]
     },
     "metadata": {},
     "output_type": "display_data"
    },
    {
     "data": {
      "text/html": [
       " View run at <a href='https://wandb.ai/pratham_03/ISAC_2_TCN/runs/cud5m5cw' target=\"_blank\">https://wandb.ai/pratham_03/ISAC_2_TCN/runs/cud5m5cw</a>"
      ],
      "text/plain": [
       "<IPython.core.display.HTML object>"
      ]
     },
     "metadata": {},
     "output_type": "display_data"
    },
    {
     "data": {
      "text/html": [
       "<button onClick=\"this.nextSibling.style.display='block';this.style.display='none';\">Display W&B run</button><iframe src='https://wandb.ai/pratham_03/ISAC_2_TCN/runs/cud5m5cw?jupyter=true' style='border:none;width:100%;height:420px;display:none;'></iframe>"
      ],
      "text/plain": [
       "<wandb.sdk.wandb_run.Run at 0x7f6979533ad0>"
      ]
     },
     "execution_count": 3,
     "metadata": {},
     "output_type": "execute_result"
    }
   ],
   "source": [
    "wandb.init(project = \"ISAC_2_TCN\",name=\"Phase1_ph_new (5 epochs)\")"
   ]
  },
  {
   "cell_type": "code",
   "execution_count": 4,
   "metadata": {},
   "outputs": [],
   "source": [
    "path = '/home/vijay/paper_jc/conference/phase1_ph_student_label'\n",
    "all_files=[]\n",
    "for subfolder in os.listdir(path):\n",
    "        subfolder_path = os.path.join(path, subfolder)\n",
    "        if os.path.isdir(subfolder_path):\n",
    "            files = os.listdir(subfolder_path)\n",
    "            files.sort()\n",
    "            for file in files:\n",
    "                file_path = os.path.join(subfolder_path, file)\n",
    "                df = pd.read_csv(file_path, index_col=0)\n",
    "                all_files.append(df)\n",
    "\n",
    "    "
   ]
  },
  {
   "cell_type": "code",
   "execution_count": 5,
   "metadata": {},
   "outputs": [
    {
     "name": "stdout",
     "output_type": "stream",
     "text": [
      "False\n"
     ]
    }
   ],
   "source": [
    "df = pd.concat(all_files, axis=0 )\n",
    "df  = df.reset_index(drop=True)\n",
    "print(df.isnull().values.any())\n",
    "Y = df['headlabel']\n",
    "X = df.iloc[0:,0:-1]\n",
    "selector = SelectKBest(f_classif, k=25)\n",
    "csi_feature_25 = selector.fit_transform(X, Y)"
   ]
  },
  {
   "cell_type": "code",
   "execution_count": 6,
   "metadata": {},
   "outputs": [
    {
     "data": {
      "text/plain": [
       "(1970832, 5, 5)"
      ]
     },
     "execution_count": 6,
     "metadata": {},
     "output_type": "execute_result"
    }
   ],
   "source": [
    "csi_feature_5X5=np.reshape(csi_feature_25,(csi_feature_25.shape[0],5,5))\n",
    "csi_feature_5X5.shape"
   ]
  },
  {
   "cell_type": "code",
   "execution_count": 7,
   "metadata": {},
   "outputs": [],
   "source": [
    "Y = pd.DataFrame(Y)\n",
    "onehot_encoder = OneHotEncoder()\n",
    "csi_headlabel= onehot_encoder.fit_transform(Y)"
   ]
  },
  {
   "cell_type": "code",
   "execution_count": 8,
   "metadata": {},
   "outputs": [],
   "source": [
    "\n",
    "X_train, X_ , y_train,y_ = train_test_split(csi_feature_5X5, csi_headlabel, test_size=0.4, random_state=42)\n",
    "X_test, X_val, y_test, y_val=train_test_split(X_, y_, test_size=0.5, random_state=42)"
   ]
  },
  {
   "cell_type": "code",
   "execution_count": 9,
   "metadata": {},
   "outputs": [],
   "source": [
    "y_test = y_test.toarray()\n",
    "y_val = y_val.toarray()\n",
    "y_train = y_train.toarray()"
   ]
  },
  {
   "cell_type": "code",
   "execution_count": 10,
   "metadata": {},
   "outputs": [],
   "source": [
    "def csi_network_inc_res(input_sh, output_sh):\n",
    "    nb_filters = 64\n",
    "    x_input = Input(input_sh)\n",
    "    tcn1 = TCN(\n",
    "        nb_filters=nb_filters,\n",
    "        nb_stacks = 1,\n",
    "        kernel_size=10,\n",
    "        dilations=(1, 2, 4, 8, 16),\n",
    "        use_layer_norm=True,\n",
    "    )\n",
    "    tcn2 = TCN(\n",
    "        nb_filters=nb_filters,\n",
    "        nb_stacks = 1,\n",
    "        kernel_size=10,\n",
    "        dilations=(1,2, 4, 8, 16,32),\n",
    "        use_layer_norm=True,\n",
    "    )\n",
    "    tcn3 = TCN(\n",
    "        nb_filters=nb_filters,\n",
    "        nb_stacks = 1,\n",
    "        kernel_size=10,\n",
    "        dilations=(2, 4, 8, 16,32,64),\n",
    "        use_layer_norm=True,\n",
    "    )\n",
    "    x = tcn1(x_input)\n",
    "    print(f'TCN.receptive_field: {tcn1.receptive_field}.')\n",
    "    x = tcn2(x_input)\n",
    "    print(f'TCN.receptive_field: {tcn2.receptive_field}.')\n",
    "    x = tcn3(x_input)\n",
    "    print(f'TCN.receptive_field: {tcn3.receptive_field}.')\n",
    "    \n",
    "    x = tf.keras.layers.Flatten()(x)\n",
    "    x = tf.keras.layers.Dropout(0.2)(x)\n",
    "    x = tf.keras.layers.Dense(output_sh, activation='sigmoid', name='dense')(x)\n",
    "    \n",
    "    model = Model(inputs=x_input, outputs=x, name='csi_model')\n",
    "    return model"
   ]
  },
  {
   "cell_type": "code",
   "execution_count": 11,
   "metadata": {},
   "outputs": [
    {
     "name": "stderr",
     "output_type": "stream",
     "text": [
      "2024-08-05 07:34:31.267317: I external/local_xla/xla/stream_executor/cuda/cuda_executor.cc:901] successful NUMA node read from SysFS had negative value (-1), but there must be at least one NUMA node, so returning NUMA node zero. See more at https://github.com/torvalds/linux/blob/v6.0/Documentation/ABI/testing/sysfs-bus-pci#L344-L355\n",
      "2024-08-05 07:34:32.366220: I external/local_xla/xla/stream_executor/cuda/cuda_executor.cc:901] successful NUMA node read from SysFS had negative value (-1), but there must be at least one NUMA node, so returning NUMA node zero. See more at https://github.com/torvalds/linux/blob/v6.0/Documentation/ABI/testing/sysfs-bus-pci#L344-L355\n",
      "2024-08-05 07:34:32.366497: I external/local_xla/xla/stream_executor/cuda/cuda_executor.cc:901] successful NUMA node read from SysFS had negative value (-1), but there must be at least one NUMA node, so returning NUMA node zero. See more at https://github.com/torvalds/linux/blob/v6.0/Documentation/ABI/testing/sysfs-bus-pci#L344-L355\n",
      "2024-08-05 07:34:32.370958: I external/local_xla/xla/stream_executor/cuda/cuda_executor.cc:901] successful NUMA node read from SysFS had negative value (-1), but there must be at least one NUMA node, so returning NUMA node zero. See more at https://github.com/torvalds/linux/blob/v6.0/Documentation/ABI/testing/sysfs-bus-pci#L344-L355\n",
      "2024-08-05 07:34:32.371164: I external/local_xla/xla/stream_executor/cuda/cuda_executor.cc:901] successful NUMA node read from SysFS had negative value (-1), but there must be at least one NUMA node, so returning NUMA node zero. See more at https://github.com/torvalds/linux/blob/v6.0/Documentation/ABI/testing/sysfs-bus-pci#L344-L355\n",
      "2024-08-05 07:34:32.371347: I external/local_xla/xla/stream_executor/cuda/cuda_executor.cc:901] successful NUMA node read from SysFS had negative value (-1), but there must be at least one NUMA node, so returning NUMA node zero. See more at https://github.com/torvalds/linux/blob/v6.0/Documentation/ABI/testing/sysfs-bus-pci#L344-L355\n",
      "2024-08-05 07:34:32.452909: I external/local_xla/xla/stream_executor/cuda/cuda_executor.cc:901] successful NUMA node read from SysFS had negative value (-1), but there must be at least one NUMA node, so returning NUMA node zero. See more at https://github.com/torvalds/linux/blob/v6.0/Documentation/ABI/testing/sysfs-bus-pci#L344-L355\n",
      "2024-08-05 07:34:32.453128: I external/local_xla/xla/stream_executor/cuda/cuda_executor.cc:901] successful NUMA node read from SysFS had negative value (-1), but there must be at least one NUMA node, so returning NUMA node zero. See more at https://github.com/torvalds/linux/blob/v6.0/Documentation/ABI/testing/sysfs-bus-pci#L344-L355\n",
      "2024-08-05 07:34:32.453332: I external/local_xla/xla/stream_executor/cuda/cuda_executor.cc:901] successful NUMA node read from SysFS had negative value (-1), but there must be at least one NUMA node, so returning NUMA node zero. See more at https://github.com/torvalds/linux/blob/v6.0/Documentation/ABI/testing/sysfs-bus-pci#L344-L355\n",
      "2024-08-05 07:34:32.453482: I tensorflow/core/common_runtime/gpu/gpu_device.cc:1929] Created device /job:localhost/replica:0/task:0/device:GPU:0 with 43629 MB memory:  -> device: 0, name: NVIDIA L40, pci bus id: 0000:c1:00.0, compute capability: 8.9\n"
     ]
    },
    {
     "name": "stdout",
     "output_type": "stream",
     "text": [
      "TCN.receptive_field: 559.\n",
      "TCN.receptive_field: 1135.\n",
      "TCN.receptive_field: 2269.\n",
      "Epoch 1/5\n"
     ]
    },
    {
     "name": "stderr",
     "output_type": "stream",
     "text": [
      "2024-08-05 07:34:40.097075: I external/local_xla/xla/stream_executor/cuda/cuda_dnn.cc:454] Loaded cuDNN version 8902\n",
      "2024-08-05 07:34:41.747301: I external/local_tsl/tsl/platform/default/subprocess.cc:304] Start cannot spawn child process: No such file or directory\n",
      "2024-08-05 07:34:43.618051: I external/local_tsl/tsl/platform/default/subprocess.cc:304] Start cannot spawn child process: No such file or directory\n",
      "2024-08-05 07:34:44.914820: I external/local_xla/xla/service/service.cc:168] XLA service 0x7f6600a12500 initialized for platform CUDA (this does not guarantee that XLA will be used). Devices:\n",
      "2024-08-05 07:34:44.914865: I external/local_xla/xla/service/service.cc:176]   StreamExecutor device (0): NVIDIA L40, Compute Capability 8.9\n",
      "2024-08-05 07:34:45.013163: I tensorflow/compiler/mlir/tensorflow/utils/dump_mlir_util.cc:269] disabling MLIR crash reproducer, set env var `MLIR_CRASH_REPRODUCER_DIRECTORY` to enable.\n",
      "WARNING: All log messages before absl::InitializeLog() is called are written to STDERR\n",
      "I0000 00:00:1722843285.251599  844632 device_compiler.h:186] Compiled cluster using XLA!  This line is logged at most once for the lifetime of the process.\n"
     ]
    },
    {
     "name": "stdout",
     "output_type": "stream",
     "text": [
      "11825/11825 [==============================] - 256s 21ms/step - loss: 0.1640 - accuracy: 0.9514 - val_loss: 0.0380 - val_accuracy: 0.9889\n",
      "Epoch 2/5\n",
      "    1/11825 [..............................] - ETA: 3:56 - loss: 0.0097 - accuracy: 1.0000"
     ]
    },
    {
     "name": "stderr",
     "output_type": "stream",
     "text": [
      "/home/vijay/anaconda3/lib/python3.11/site-packages/keras/src/engine/training.py:3103: UserWarning: You are saving your model as an HDF5 file via `model.save()`. This file format is considered legacy. We recommend using instead the native Keras format, e.g. `model.save('my_model.keras')`.\n",
      "  saving_api.save_model(\n"
     ]
    },
    {
     "name": "stdout",
     "output_type": "stream",
     "text": [
      "11825/11825 [==============================] - 257s 22ms/step - loss: 0.0379 - accuracy: 0.9898 - val_loss: 0.0430 - val_accuracy: 0.9866\n",
      "Epoch 3/5\n",
      "11825/11825 [==============================] - 263s 22ms/step - loss: 0.0232 - accuracy: 0.9939 - val_loss: 0.0249 - val_accuracy: 0.9940\n",
      "Epoch 4/5\n",
      "11825/11825 [==============================] - 261s 22ms/step - loss: 0.0168 - accuracy: 0.9955 - val_loss: 0.0111 - val_accuracy: 0.9969\n",
      "Epoch 5/5\n",
      "11825/11825 [==============================] - 259s 22ms/step - loss: 0.0131 - accuracy: 0.9967 - val_loss: 0.0091 - val_accuracy: 0.9978\n"
     ]
    },
    {
     "data": {
      "text/plain": [
       "<keras.src.callbacks.History at 0x7f6954a62990>"
      ]
     },
     "execution_count": 11,
     "metadata": {},
     "output_type": "execute_result"
    }
   ],
   "source": [
    "model=csi_network_inc_res((5, 5), 7)\n",
    "def log_metrics(epoch, logs):\n",
    "\n",
    "    wandb.log(logs, step=epoch)\n",
    "\n",
    "wandb_callback = tf.keras.callbacks.LambdaCallback(on_epoch_end=log_metrics)\n",
    "\n",
    "model.compile(\n",
    "    optimizer=tf.keras.optimizers.Adam(learning_rate=0.001),\n",
    "    loss='categorical_crossentropy',\n",
    "    metrics=['accuracy']\n",
    ")\n",
    "\n",
    "model.fit( X_train,y_train, batch_size=100,epochs=5,validation_data=[X_val, y_val], callbacks=[\n",
    "        tf.keras.callbacks.ModelCheckpoint('/home/vijay/paper_jc/conference/models/ph1_tcn.hdf5',\n",
    "                                            monitor='val_accuracy',\n",
    "                                            save_best_only=True,\n",
    "                                            save_weights_only=False),\n",
    "        wandb_callback\n",
    "    ])"
   ]
  },
  {
   "cell_type": "code",
   "execution_count": 13,
   "metadata": {},
   "outputs": [],
   "source": [
    "model.save('finaltcnmodel.h5')"
   ]
  },
  {
   "cell_type": "code",
   "execution_count": 14,
   "metadata": {},
   "outputs": [
    {
     "data": {
      "application/vnd.jupyter.widget-view+json": {
       "model_id": "51e61f75a5224d3eba08d33e6c132eba",
       "version_major": 2,
       "version_minor": 0
      },
      "text/plain": [
       "VBox(children=(Label(value='0.007 MB of 0.007 MB uploaded\\r'), FloatProgress(value=1.0, max=1.0)))"
      ]
     },
     "metadata": {},
     "output_type": "display_data"
    },
    {
     "data": {
      "text/html": [
       "<style>\n",
       "    table.wandb td:nth-child(1) { padding: 0 10px; text-align: left ; width: auto;} td:nth-child(2) {text-align: left ; width: 100%}\n",
       "    .wandb-row { display: flex; flex-direction: row; flex-wrap: wrap; justify-content: flex-start; width: 100% }\n",
       "    .wandb-col { display: flex; flex-direction: column; flex-basis: 100%; flex: 1; padding: 10px; }\n",
       "    </style>\n",
       "<div class=\"wandb-row\"><div class=\"wandb-col\"><h3>Run history:</h3><br/><table class=\"wandb\"><tr><td>accuracy</td><td>▁▇███</td></tr><tr><td>loss</td><td>█▂▁▁▁</td></tr><tr><td>val_accuracy</td><td>▂▁▆▇█</td></tr><tr><td>val_loss</td><td>▇█▄▁▁</td></tr></table><br/></div><div class=\"wandb-col\"><h3>Run summary:</h3><br/><table class=\"wandb\"><tr><td>accuracy</td><td>0.99666</td></tr><tr><td>loss</td><td>0.01308</td></tr><tr><td>val_accuracy</td><td>0.99784</td></tr><tr><td>val_loss</td><td>0.00911</td></tr></table><br/></div></div>"
      ],
      "text/plain": [
       "<IPython.core.display.HTML object>"
      ]
     },
     "metadata": {},
     "output_type": "display_data"
    },
    {
     "data": {
      "text/html": [
       " View run <strong style=\"color:#cdcd00\">Phase1_ph_new (5 epochs)</strong> at: <a href='https://wandb.ai/pratham_03/ISAC_2_TCN/runs/cud5m5cw' target=\"_blank\">https://wandb.ai/pratham_03/ISAC_2_TCN/runs/cud5m5cw</a><br/> View project at: <a href='https://wandb.ai/pratham_03/ISAC_2_TCN' target=\"_blank\">https://wandb.ai/pratham_03/ISAC_2_TCN</a><br/>Synced 6 W&B file(s), 0 media file(s), 0 artifact file(s) and 0 other file(s)"
      ],
      "text/plain": [
       "<IPython.core.display.HTML object>"
      ]
     },
     "metadata": {},
     "output_type": "display_data"
    },
    {
     "data": {
      "text/html": [
       "Find logs at: <code>./wandb/run-20240805_073331-cud5m5cw/logs</code>"
      ],
      "text/plain": [
       "<IPython.core.display.HTML object>"
      ]
     },
     "metadata": {},
     "output_type": "display_data"
    },
    {
     "data": {
      "text/html": [
       "The new W&B backend becomes opt-out in version 0.18.0; try it out with `wandb.require(\"core\")`! See https://wandb.me/wandb-core for more information."
      ],
      "text/plain": [
       "<IPython.core.display.HTML object>"
      ]
     },
     "metadata": {},
     "output_type": "display_data"
    }
   ],
   "source": [
    "wandb.finish()"
   ]
  },
  {
   "cell_type": "markdown",
   "metadata": {},
   "source": [
    "## Phase 2 - FSL"
   ]
  },
  {
   "cell_type": "code",
   "execution_count": 15,
   "metadata": {},
   "outputs": [
    {
     "data": {
      "text/html": [
       "wandb version 0.17.5 is available!  To upgrade, please run:\n",
       " $ pip install wandb --upgrade"
      ],
      "text/plain": [
       "<IPython.core.display.HTML object>"
      ]
     },
     "metadata": {},
     "output_type": "display_data"
    },
    {
     "data": {
      "text/html": [
       "Tracking run with wandb version 0.17.3"
      ],
      "text/plain": [
       "<IPython.core.display.HTML object>"
      ]
     },
     "metadata": {},
     "output_type": "display_data"
    },
    {
     "data": {
      "text/html": [
       "Run data is saved locally in <code>/home/vijay/paper_jc/varun/wandb/run-20240805_075735-g36ktbjv</code>"
      ],
      "text/plain": [
       "<IPython.core.display.HTML object>"
      ]
     },
     "metadata": {},
     "output_type": "display_data"
    },
    {
     "data": {
      "text/html": [
       "Syncing run <strong><a href='https://wandb.ai/pratham_03/ISAC_2/runs/g36ktbjv' target=\"_blank\">Phase2_ph_new (No Retraining on Phase 2) (Only Trained on Phase 1)</a></strong> to <a href='https://wandb.ai/pratham_03/ISAC_2' target=\"_blank\">Weights & Biases</a> (<a href='https://wandb.me/run' target=\"_blank\">docs</a>)<br/>"
      ],
      "text/plain": [
       "<IPython.core.display.HTML object>"
      ]
     },
     "metadata": {},
     "output_type": "display_data"
    },
    {
     "data": {
      "text/html": [
       " View project at <a href='https://wandb.ai/pratham_03/ISAC_2' target=\"_blank\">https://wandb.ai/pratham_03/ISAC_2</a>"
      ],
      "text/plain": [
       "<IPython.core.display.HTML object>"
      ]
     },
     "metadata": {},
     "output_type": "display_data"
    },
    {
     "data": {
      "text/html": [
       " View run at <a href='https://wandb.ai/pratham_03/ISAC_2/runs/g36ktbjv' target=\"_blank\">https://wandb.ai/pratham_03/ISAC_2/runs/g36ktbjv</a>"
      ],
      "text/plain": [
       "<IPython.core.display.HTML object>"
      ]
     },
     "metadata": {},
     "output_type": "display_data"
    },
    {
     "data": {
      "text/html": [
       "<button onClick=\"this.nextSibling.style.display='block';this.style.display='none';\">Display W&B run</button><iframe src='https://wandb.ai/pratham_03/ISAC_2/runs/g36ktbjv?jupyter=true' style='border:none;width:100%;height:420px;display:none;'></iframe>"
      ],
      "text/plain": [
       "<wandb.sdk.wandb_run.Run at 0x7f68bc7c5910>"
      ]
     },
     "execution_count": 15,
     "metadata": {},
     "output_type": "execute_result"
    }
   ],
   "source": [
    "wandb.init(project = \"ISAC_2\",name=\"Phase2_ph_new (No Retraining on Phase 2) (Only Trained on Phase 1)\")"
   ]
  },
  {
   "cell_type": "code",
   "execution_count": 16,
   "metadata": {},
   "outputs": [],
   "source": [
    "path_test = '/home/vijay/paper_jc/conference/phase2_ph_new'\n",
    "files_test= os.listdir(path_test)\n",
    "files_test.sort()\n",
    "all_files_test=[]\n",
    "for i in files_test:\n",
    "    df_test = pd.read_csv(path_test + '/' + i, index_col=0)\n",
    "    all_files_test.append(df_test)\n",
    "\n",
    "df_test = pd.concat(all_files_test, axis=0 )\n",
    "df_test  = df_test.reset_index(drop=True)\n",
    "Y_test_ = df_test['headlabel']\n",
    "X_test_ = df_test.iloc[0:,0:-1]\n",
    "selector = SelectKBest(f_classif, k=25)\n",
    "csi_feature_25_test = selector.fit_transform(X_test_, Y_test_)"
   ]
  },
  {
   "cell_type": "code",
   "execution_count": 21,
   "metadata": {},
   "outputs": [
    {
     "name": "stderr",
     "output_type": "stream",
     "text": [
      "/home/vijay/anaconda3/lib/python3.11/site-packages/sklearn/preprocessing/_encoders.py:972: FutureWarning: `sparse` was renamed to `sparse_output` in version 1.2 and will be removed in 1.4. `sparse_output` is ignored unless you leave `sparse` to its default value.\n",
      "  warnings.warn(\n"
     ]
    },
    {
     "name": "stdout",
     "output_type": "stream",
     "text": [
      "(608094, 5, 5)\n"
     ]
    }
   ],
   "source": [
    "Y_test_ = pd.DataFrame(Y_test_)\n",
    "onehot_encoder = OneHotEncoder(sparse=False)\n",
    "csi_headlabel_test= onehot_encoder.fit_transform(Y_test_)\n",
    "csi_feature_5X5_test=np.reshape(csi_feature_25_test,(csi_feature_25_test.shape[0],5,5))\n",
    "print(csi_feature_5X5_test.shape)\n",
    "X_testph2, X__ , y_testph2,y__ = train_test_split(csi_feature_5X5_test, csi_headlabel_test, test_size=0.01, random_state=42)"
   ]
  },
  {
   "cell_type": "code",
   "execution_count": 22,
   "metadata": {},
   "outputs": [],
   "source": [
    "train, val, train_label, val_label = train_test_split(X__, y__, test_size=0.5, random_state=42)"
   ]
  },
  {
   "cell_type": "code",
   "execution_count": 23,
   "metadata": {},
   "outputs": [],
   "source": [
    "path_to_model = '/home/vijay/paper_jc/varun/finaltcnmodel.h5'\n",
    "model = tf.keras.models.load_model(path_to_model, custom_objects={'TCN': TCN})"
   ]
  },
  {
   "cell_type": "code",
   "execution_count": 27,
   "metadata": {},
   "outputs": [
    {
     "name": "stdout",
     "output_type": "stream",
     "text": [
      "Epoch 1/10\n",
      "48/48 [==============================] - 1s 31ms/step - loss: 0.2086 - accuracy: 0.9438 - val_loss: 0.3572 - val_accuracy: 0.9089\n",
      "Epoch 2/10\n",
      " 1/48 [..............................] - ETA: 1s - loss: 0.0825 - accuracy: 0.9844"
     ]
    },
    {
     "name": "stderr",
     "output_type": "stream",
     "text": [
      "/home/vijay/anaconda3/lib/python3.11/site-packages/keras/src/engine/training.py:3103: UserWarning: You are saving your model as an HDF5 file via `model.save()`. This file format is considered legacy. We recommend using instead the native Keras format, e.g. `model.save('my_model.keras')`.\n",
      "  saving_api.save_model(\n"
     ]
    },
    {
     "name": "stdout",
     "output_type": "stream",
     "text": [
      "48/48 [==============================] - 1s 29ms/step - loss: 0.1230 - accuracy: 0.9681 - val_loss: 0.3840 - val_accuracy: 0.9102\n",
      "Epoch 3/10\n",
      "48/48 [==============================] - 1s 28ms/step - loss: 0.0870 - accuracy: 0.9760 - val_loss: 0.3804 - val_accuracy: 0.9165\n",
      "Epoch 4/10\n",
      "48/48 [==============================] - 2s 32ms/step - loss: 0.0871 - accuracy: 0.9737 - val_loss: 0.3647 - val_accuracy: 0.9188\n",
      "Epoch 5/10\n",
      "48/48 [==============================] - 1s 31ms/step - loss: 0.0448 - accuracy: 0.9875 - val_loss: 0.3780 - val_accuracy: 0.9270\n",
      "Epoch 6/10\n",
      "48/48 [==============================] - 1s 30ms/step - loss: 0.0260 - accuracy: 0.9931 - val_loss: 0.3917 - val_accuracy: 0.9303\n",
      "Epoch 7/10\n",
      "48/48 [==============================] - 1s 25ms/step - loss: 0.0201 - accuracy: 0.9954 - val_loss: 0.4596 - val_accuracy: 0.9234\n",
      "Epoch 8/10\n",
      "48/48 [==============================] - 1s 26ms/step - loss: 0.0303 - accuracy: 0.9924 - val_loss: 0.4429 - val_accuracy: 0.9227\n",
      "Epoch 9/10\n",
      "48/48 [==============================] - 1s 28ms/step - loss: 0.0269 - accuracy: 0.9947 - val_loss: 0.4364 - val_accuracy: 0.9224\n",
      "Epoch 10/10\n",
      "48/48 [==============================] - 1s 27ms/step - loss: 0.0677 - accuracy: 0.9803 - val_loss: 0.4916 - val_accuracy: 0.9161\n"
     ]
    },
    {
     "data": {
      "text/plain": [
       "<keras.src.callbacks.History at 0x7f67dc48d590>"
      ]
     },
     "execution_count": 27,
     "metadata": {},
     "output_type": "execute_result"
    }
   ],
   "source": [
    "def log_metrics(epoch, logs):\n",
    "    wandb.log(logs, step=epoch)\n",
    "\n",
    "wandb_callback = tf.keras.callbacks.LambdaCallback(on_epoch_end=log_metrics)\n",
    "\n",
    "model.fit(\n",
    "    train,\n",
    "    train_label,\n",
    "    batch_size=64,\n",
    "    epochs=10,\n",
    "    validation_data=[val, val_label],\n",
    "    callbacks=[\n",
    "        tf.keras.callbacks.ModelCheckpoint('/home/vijay/journal_paper/model_p1_p2_ph_new_15epochs_1%.hdf5',\n",
    "                                            monitor='val_accuracy',\n",
    "                                            save_best_only=True,\n",
    "                                            save_weights_only=False),\n",
    "    ]\n",
    ")"
   ]
  },
  {
   "cell_type": "code",
   "execution_count": 28,
   "metadata": {},
   "outputs": [
    {
     "name": "stdout",
     "output_type": "stream",
     "text": [
      "18813/18813 [==============================] - 140s 7ms/step\n",
      "Accuracy_Test: 0.9186030866443083\n",
      "Confusion Matrix:\n",
      " [[123271   1289    321   1575    690    829   1060]\n",
      " [  1923  93393   1327   1100   1083   3921   1656]\n",
      " [  1067    626  39990    806    679   1569    920]\n",
      " [  1661    890    102  61954   1114   2766   1894]\n",
      " [  1341    581    987   1580  37065   1194   2565]\n",
      " [  1036   1039    513    475    340 138503    837]\n",
      " [   859    640    559   1382    575   1631  58835]]\n",
      "F1 Score: 0.9186030866443082\n",
      "{'Forward': 0.9553299492385787, 'Looking Down': 0.8945432602511422, 'Looking Up': 0.8758788356659439, 'Looking Left': 0.8802659808755204, 'Looking Right': 0.8179771809414517, 'Nodding': 0.970296266717107, 'Shaking': 0.9124393232114887}\n"
     ]
    }
   ],
   "source": [
    "from sklearn.metrics import confusion_matrix, accuracy_score, f1_score\n",
    "y_pred = model.predict(X_testph2)\n",
    "y_predicted = np.argmax(y_pred, axis=1)\n",
    "ground_truth = np.argmax(y_testph2, axis=1)\n",
    "\n",
    "accuracy_test = accuracy_score(ground_truth, y_predicted)\n",
    "\n",
    "conf_matrix = confusion_matrix(ground_truth, y_predicted)\n",
    "\n",
    "f1 = f1_score(ground_truth, y_predicted, average='micro')\n",
    "\n",
    "print(\"Accuracy_Test:\", accuracy_test)\n",
    "print(\"Confusion Matrix:\\n\", conf_matrix)\n",
    "print(\"F1 Score:\", f1)\n",
    "\n",
    "headlabel_accuracy = {\"Forward\": 0.0, \"Looking Down\": 0.0, \"Looking Up\": 0.0, \"Looking Left\": 0.0, \"Looking Right\": 0.0, \"Nodding\": 0.0, \"Shaking\": 0.0}\n",
    "\n",
    "for i, headlabel in enumerate(headlabel_accuracy.keys()):\n",
    "    accuracy = conf_matrix[i, i] / conf_matrix[i].sum() if conf_matrix[i].sum() > 0 else 0.0\n",
    "    headlabel_accuracy[headlabel] = accuracy\n",
    "\n",
    "print(headlabel_accuracy)\n"
   ]
  },
  {
   "cell_type": "markdown",
   "metadata": {},
   "source": [
    "## Phase 3 - FSL"
   ]
  },
  {
   "cell_type": "code",
   "execution_count": 29,
   "metadata": {},
   "outputs": [
    {
     "data": {
      "text/html": [
       "Finishing last run (ID:g36ktbjv) before initializing another..."
      ],
      "text/plain": [
       "<IPython.core.display.HTML object>"
      ]
     },
     "metadata": {},
     "output_type": "display_data"
    },
    {
     "data": {
      "application/vnd.jupyter.widget-view+json": {
       "model_id": "d207e96959a640979bfb1246d10184d2",
       "version_major": 2,
       "version_minor": 0
      },
      "text/plain": [
       "VBox(children=(Label(value='0.007 MB of 0.007 MB uploaded\\r'), FloatProgress(value=1.0, max=1.0)))"
      ]
     },
     "metadata": {},
     "output_type": "display_data"
    },
    {
     "data": {
      "text/html": [
       " View run <strong style=\"color:#cdcd00\">Phase2_ph_new (No Retraining on Phase 2) (Only Trained on Phase 1)</strong> at: <a href='https://wandb.ai/pratham_03/ISAC_2/runs/g36ktbjv' target=\"_blank\">https://wandb.ai/pratham_03/ISAC_2/runs/g36ktbjv</a><br/> View project at: <a href='https://wandb.ai/pratham_03/ISAC_2' target=\"_blank\">https://wandb.ai/pratham_03/ISAC_2</a><br/>Synced 5 W&B file(s), 0 media file(s), 0 artifact file(s) and 0 other file(s)"
      ],
      "text/plain": [
       "<IPython.core.display.HTML object>"
      ]
     },
     "metadata": {},
     "output_type": "display_data"
    },
    {
     "data": {
      "text/html": [
       "Find logs at: <code>./wandb/run-20240805_075735-g36ktbjv/logs</code>"
      ],
      "text/plain": [
       "<IPython.core.display.HTML object>"
      ]
     },
     "metadata": {},
     "output_type": "display_data"
    },
    {
     "data": {
      "text/html": [
       "The new W&B backend becomes opt-out in version 0.18.0; try it out with `wandb.require(\"core\")`! See https://wandb.me/wandb-core for more information."
      ],
      "text/plain": [
       "<IPython.core.display.HTML object>"
      ]
     },
     "metadata": {},
     "output_type": "display_data"
    },
    {
     "data": {
      "text/html": [
       "Successfully finished last run (ID:g36ktbjv). Initializing new run:<br/>"
      ],
      "text/plain": [
       "<IPython.core.display.HTML object>"
      ]
     },
     "metadata": {},
     "output_type": "display_data"
    },
    {
     "data": {
      "application/vnd.jupyter.widget-view+json": {
       "model_id": "52aec66073e9437093a7598c5a2dfe52",
       "version_major": 2,
       "version_minor": 0
      },
      "text/plain": [
       "VBox(children=(Label(value='Waiting for wandb.init()...\\r'), FloatProgress(value=0.011112293114678727, max=1.0…"
      ]
     },
     "metadata": {},
     "output_type": "display_data"
    },
    {
     "data": {
      "text/html": [
       "wandb version 0.17.5 is available!  To upgrade, please run:\n",
       " $ pip install wandb --upgrade"
      ],
      "text/plain": [
       "<IPython.core.display.HTML object>"
      ]
     },
     "metadata": {},
     "output_type": "display_data"
    },
    {
     "data": {
      "text/html": [
       "Tracking run with wandb version 0.17.3"
      ],
      "text/plain": [
       "<IPython.core.display.HTML object>"
      ]
     },
     "metadata": {},
     "output_type": "display_data"
    },
    {
     "data": {
      "text/html": [
       "Run data is saved locally in <code>/home/vijay/paper_jc/varun/wandb/run-20240805_081534-ucqox2y7</code>"
      ],
      "text/plain": [
       "<IPython.core.display.HTML object>"
      ]
     },
     "metadata": {},
     "output_type": "display_data"
    },
    {
     "data": {
      "text/html": [
       "Syncing run <strong><a href='https://wandb.ai/pratham_03/ISAC_2/runs/ucqox2y7' target=\"_blank\">Phase 3 1% 15 epochs (Phase 2 1%)</a></strong> to <a href='https://wandb.ai/pratham_03/ISAC_2' target=\"_blank\">Weights & Biases</a> (<a href='https://wandb.me/run' target=\"_blank\">docs</a>)<br/>"
      ],
      "text/plain": [
       "<IPython.core.display.HTML object>"
      ]
     },
     "metadata": {},
     "output_type": "display_data"
    },
    {
     "data": {
      "text/html": [
       " View project at <a href='https://wandb.ai/pratham_03/ISAC_2' target=\"_blank\">https://wandb.ai/pratham_03/ISAC_2</a>"
      ],
      "text/plain": [
       "<IPython.core.display.HTML object>"
      ]
     },
     "metadata": {},
     "output_type": "display_data"
    },
    {
     "data": {
      "text/html": [
       " View run at <a href='https://wandb.ai/pratham_03/ISAC_2/runs/ucqox2y7' target=\"_blank\">https://wandb.ai/pratham_03/ISAC_2/runs/ucqox2y7</a>"
      ],
      "text/plain": [
       "<IPython.core.display.HTML object>"
      ]
     },
     "metadata": {},
     "output_type": "display_data"
    },
    {
     "data": {
      "text/html": [
       "<button onClick=\"this.nextSibling.style.display='block';this.style.display='none';\">Display W&B run</button><iframe src='https://wandb.ai/pratham_03/ISAC_2/runs/ucqox2y7?jupyter=true' style='border:none;width:100%;height:420px;display:none;'></iframe>"
      ],
      "text/plain": [
       "<wandb.sdk.wandb_run.Run at 0x7f67fc2b9490>"
      ]
     },
     "execution_count": 29,
     "metadata": {},
     "output_type": "execute_result"
    }
   ],
   "source": [
    "wandb.init(project = \"ISAC_2\",name=\"Phase 3 1% 15 epochs (Phase 2 1%)\")"
   ]
  },
  {
   "cell_type": "code",
   "execution_count": 30,
   "metadata": {},
   "outputs": [],
   "source": [
    "path_test = '/home/vijay/paper_jc/conference/phase3_ph_new'\n",
    "files_test= os.listdir(path_test)\n",
    "files_test.sort()\n",
    "all_files_test=[]\n",
    "for i in files_test:\n",
    "    df_test = pd.read_csv(path_test + '/' + i, index_col=0)\n",
    "    all_files_test.append(df_test)\n",
    "\n",
    "df_test = pd.concat(all_files_test, axis=0 )\n",
    "df_test  = df_test.reset_index(drop=True)\n",
    "Y_test_ = df_test['headlabel']\n",
    "X_test_ = df_test.iloc[0:,0:-1]\n",
    "selector = SelectKBest(f_classif, k=25)\n",
    "csi_feature_25_test = selector.fit_transform(X_test_, Y_test_)"
   ]
  },
  {
   "cell_type": "code",
   "execution_count": 39,
   "metadata": {},
   "outputs": [
    {
     "name": "stderr",
     "output_type": "stream",
     "text": [
      "/home/vijay/anaconda3/lib/python3.11/site-packages/sklearn/preprocessing/_encoders.py:972: FutureWarning: `sparse` was renamed to `sparse_output` in version 1.2 and will be removed in 1.4. `sparse_output` is ignored unless you leave `sparse` to its default value.\n",
      "  warnings.warn(\n"
     ]
    }
   ],
   "source": [
    "Y_test_ = pd.DataFrame(Y_test_)\n",
    "onehot_encoder = OneHotEncoder(sparse=False)\n",
    "csi_headlabel_test= onehot_encoder.fit_transform(Y_test_)\n",
    "csi_feature_5X5_test=np.reshape(csi_feature_25_test,(csi_feature_25_test.shape[0],5,5))\n",
    "csi_feature_5X5_test.shape\n",
    "X_testph3, X__ , y_testph3,y__ = train_test_split(csi_feature_5X5_test, csi_headlabel_test, test_size=0.01, random_state=42)\n",
    "train, val, train_label, val_label = train_test_split(X__, y__, test_size=0.5, random_state=42)"
   ]
  },
  {
   "cell_type": "code",
   "execution_count": 40,
   "metadata": {},
   "outputs": [],
   "source": [
    "path_to_model = '/home/vijay/paper_jc/varun/finaltcnmodel.h5'\n",
    "model = tf.keras.models.load_model(path_to_model, custom_objects={'TCN': TCN})"
   ]
  },
  {
   "cell_type": "code",
   "execution_count": 41,
   "metadata": {},
   "outputs": [
    {
     "name": "stdout",
     "output_type": "stream",
     "text": [
      "Epoch 1/17\n",
      "76/76 [==============================] - 8s 45ms/step - loss: 1.9588 - accuracy: 0.3720 - val_loss: 1.3241 - val_accuracy: 0.5119\n",
      "Epoch 2/17\n",
      " 1/76 [..............................] - ETA: 1s - loss: 1.3568 - accuracy: 0.5000"
     ]
    },
    {
     "name": "stderr",
     "output_type": "stream",
     "text": [
      "/home/vijay/anaconda3/lib/python3.11/site-packages/keras/src/engine/training.py:3103: UserWarning: You are saving your model as an HDF5 file via `model.save()`. This file format is considered legacy. We recommend using instead the native Keras format, e.g. `model.save('my_model.keras')`.\n",
      "  saving_api.save_model(\n"
     ]
    },
    {
     "name": "stdout",
     "output_type": "stream",
     "text": [
      "49/76 [==================>...........] - ETA: 0s - loss: 1.2813 - accuracy: 0.5424"
     ]
    },
    {
     "name": "stderr",
     "output_type": "stream",
     "text": [
      "\u001b[34m\u001b[1mwandb\u001b[0m: \u001b[33mWARNING\u001b[0m (User provided step: 0 is less than current step: 16. Dropping entry: {'loss': 1.9588371515274048, 'accuracy': 0.3720157742500305, 'val_loss': 1.3240524530410767, 'val_accuracy': 0.5119369029998779, '_timestamp': 1722846404.0392122}).\n"
     ]
    },
    {
     "name": "stdout",
     "output_type": "stream",
     "text": [
      "76/76 [==============================] - 2s 27ms/step - loss: 1.2414 - accuracy: 0.5524 - val_loss: 1.0422 - val_accuracy: 0.6355\n",
      "Epoch 3/17\n",
      "45/76 [================>.............] - ETA: 0s - loss: 1.0134 - accuracy: 0.6476"
     ]
    },
    {
     "name": "stderr",
     "output_type": "stream",
     "text": [
      "\u001b[34m\u001b[1mwandb\u001b[0m: \u001b[33mWARNING\u001b[0m (User provided step: 1 is less than current step: 16. Dropping entry: {'loss': 1.2414135932922363, 'accuracy': 0.5524185299873352, 'val_loss': 1.0422486066818237, 'val_accuracy': 0.6354577541351318, '_timestamp': 1722846406.0620725}).\n"
     ]
    },
    {
     "name": "stdout",
     "output_type": "stream",
     "text": [
      "76/76 [==============================] - 2s 27ms/step - loss: 0.9575 - accuracy: 0.6734 - val_loss: 0.8068 - val_accuracy: 0.7361\n",
      "Epoch 4/17\n",
      "41/76 [===============>..............] - ETA: 0s - loss: 0.7765 - accuracy: 0.7416"
     ]
    },
    {
     "name": "stderr",
     "output_type": "stream",
     "text": [
      "\u001b[34m\u001b[1mwandb\u001b[0m: \u001b[33mWARNING\u001b[0m (User provided step: 2 is less than current step: 16. Dropping entry: {'loss': 0.9575373530387878, 'accuracy': 0.6734482049942017, 'val_loss': 0.8068253397941589, 'val_accuracy': 0.7361428141593933, '_timestamp': 1722846408.1128688}).\n"
     ]
    },
    {
     "name": "stdout",
     "output_type": "stream",
     "text": [
      "76/76 [==============================] - 2s 31ms/step - loss: 0.7323 - accuracy: 0.7602 - val_loss: 0.6424 - val_accuracy: 0.7945\n",
      "Epoch 5/17\n",
      "22/76 [=======>......................] - ETA: 1s - loss: 0.5936 - accuracy: 0.7983"
     ]
    },
    {
     "name": "stderr",
     "output_type": "stream",
     "text": [
      "\u001b[34m\u001b[1mwandb\u001b[0m: \u001b[33mWARNING\u001b[0m (User provided step: 3 is less than current step: 16. Dropping entry: {'loss': 0.7322917580604553, 'accuracy': 0.7602242231369019, 'val_loss': 0.6423647999763489, 'val_accuracy': 0.7944778800010681, '_timestamp': 1722846410.4244685}).\n"
     ]
    },
    {
     "name": "stdout",
     "output_type": "stream",
     "text": [
      "76/76 [==============================] - 2s 29ms/step - loss: 0.5683 - accuracy: 0.8186 - val_loss: 0.5697 - val_accuracy: 0.8134\n",
      "Epoch 6/17\n",
      "13/76 [====>.........................] - ETA: 1s - loss: 0.4826 - accuracy: 0.8341"
     ]
    },
    {
     "name": "stderr",
     "output_type": "stream",
     "text": [
      "\u001b[34m\u001b[1mwandb\u001b[0m: \u001b[33mWARNING\u001b[0m (User provided step: 4 is less than current step: 16. Dropping entry: {'loss': 0.5682915449142456, 'accuracy': 0.8185592889785767, 'val_loss': 0.569701611995697, 'val_accuracy': 0.8133693337440491, '_timestamp': 1722846412.6460705}).\n"
     ]
    },
    {
     "name": "stdout",
     "output_type": "stream",
     "text": [
      "76/76 [==============================] - 2s 28ms/step - loss: 0.4244 - accuracy: 0.8634 - val_loss: 0.4589 - val_accuracy: 0.8576\n",
      "Epoch 7/17\n",
      " 8/76 [==>...........................] - ETA: 1s - loss: 0.3193 - accuracy: 0.8867"
     ]
    },
    {
     "name": "stderr",
     "output_type": "stream",
     "text": [
      "\u001b[34m\u001b[1mwandb\u001b[0m: \u001b[33mWARNING\u001b[0m (User provided step: 5 is less than current step: 16. Dropping entry: {'loss': 0.4244181513786316, 'accuracy': 0.8634004592895508, 'val_loss': 0.45888251066207886, 'val_accuracy': 0.8575876951217651, '_timestamp': 1722846414.7733288}).\n"
     ]
    },
    {
     "name": "stdout",
     "output_type": "stream",
     "text": [
      "76/76 [==============================] - 2s 29ms/step - loss: 0.3560 - accuracy: 0.8864 - val_loss: 0.4435 - val_accuracy: 0.8686\n",
      "Epoch 8/17\n",
      "49/76 [==================>...........] - ETA: 0s - loss: 0.2565 - accuracy: 0.9244"
     ]
    },
    {
     "name": "stderr",
     "output_type": "stream",
     "text": [
      "\u001b[34m\u001b[1mwandb\u001b[0m: \u001b[33mWARNING\u001b[0m (User provided step: 6 is less than current step: 16. Dropping entry: {'loss': 0.3560439646244049, 'accuracy': 0.8864438533782959, 'val_loss': 0.4435487687587738, 'val_accuracy': 0.8685904145240784, '_timestamp': 1722846416.965133}).\n"
     ]
    },
    {
     "name": "stdout",
     "output_type": "stream",
     "text": [
      "76/76 [==============================] - 2s 28ms/step - loss: 0.2646 - accuracy: 0.9205 - val_loss: 0.4255 - val_accuracy: 0.8800\n",
      "Epoch 9/17\n",
      "40/76 [==============>...............] - ETA: 0s - loss: 0.2127 - accuracy: 0.9281"
     ]
    },
    {
     "name": "stderr",
     "output_type": "stream",
     "text": [
      "\u001b[34m\u001b[1mwandb\u001b[0m: \u001b[33mWARNING\u001b[0m (User provided step: 7 is less than current step: 16. Dropping entry: {'loss': 0.26461461186408997, 'accuracy': 0.9204899072647095, 'val_loss': 0.4255303144454956, 'val_accuracy': 0.8800082802772522, '_timestamp': 1722846419.1162274}).\n"
     ]
    },
    {
     "name": "stdout",
     "output_type": "stream",
     "text": [
      "76/76 [==============================] - 2s 29ms/step - loss: 0.2335 - accuracy: 0.9257 - val_loss: 0.4088 - val_accuracy: 0.8846\n",
      "Epoch 10/17\n",
      "31/76 [===========>..................] - ETA: 0s - loss: 0.1938 - accuracy: 0.9370"
     ]
    },
    {
     "name": "stderr",
     "output_type": "stream",
     "text": [
      "\u001b[34m\u001b[1mwandb\u001b[0m: \u001b[33mWARNING\u001b[0m (User provided step: 8 is less than current step: 16. Dropping entry: {'loss': 0.23349371552467346, 'accuracy': 0.9256798624992371, 'val_loss': 0.4087672233581543, 'val_accuracy': 0.8845754861831665, '_timestamp': 1722846421.28841}).\n"
     ]
    },
    {
     "name": "stdout",
     "output_type": "stream",
     "text": [
      "76/76 [==============================] - 2s 29ms/step - loss: 0.1794 - accuracy: 0.9435 - val_loss: 0.3441 - val_accuracy: 0.9134\n",
      "Epoch 11/17\n",
      "22/76 [=======>......................] - ETA: 0s - loss: 0.0983 - accuracy: 0.9730"
     ]
    },
    {
     "name": "stderr",
     "output_type": "stream",
     "text": [
      "\u001b[34m\u001b[1mwandb\u001b[0m: \u001b[33mWARNING\u001b[0m (User provided step: 9 is less than current step: 16. Dropping entry: {'loss': 0.17935165762901306, 'accuracy': 0.9435333013534546, 'val_loss': 0.34412166476249695, 'val_accuracy': 0.9134315848350525, '_timestamp': 1722846423.4980247}).\n"
     ]
    },
    {
     "name": "stdout",
     "output_type": "stream",
     "text": [
      "76/76 [==============================] - 2s 27ms/step - loss: 0.1416 - accuracy: 0.9541 - val_loss: 0.3487 - val_accuracy: 0.9151\n",
      "Epoch 12/17\n",
      "20/76 [======>.......................] - ETA: 1s - loss: 0.1383 - accuracy: 0.9570"
     ]
    },
    {
     "name": "stderr",
     "output_type": "stream",
     "text": [
      "\u001b[34m\u001b[1mwandb\u001b[0m: \u001b[33mWARNING\u001b[0m (User provided step: 10 is less than current step: 16. Dropping entry: {'loss': 0.14159294962882996, 'accuracy': 0.9541208148002625, 'val_loss': 0.3486652374267578, 'val_accuracy': 0.915092408657074, '_timestamp': 1722846425.5344331}).\n"
     ]
    },
    {
     "name": "stdout",
     "output_type": "stream",
     "text": [
      "76/76 [==============================] - 2s 29ms/step - loss: 0.1457 - accuracy: 0.9568 - val_loss: 0.3015 - val_accuracy: 0.9294\n",
      "Epoch 13/17\n",
      " 7/76 [=>............................] - ETA: 1s - loss: 0.1163 - accuracy: 0.9754"
     ]
    },
    {
     "name": "stderr",
     "output_type": "stream",
     "text": [
      "\u001b[34m\u001b[1mwandb\u001b[0m: \u001b[33mWARNING\u001b[0m (User provided step: 11 is less than current step: 16. Dropping entry: {'loss': 0.14570273458957672, 'accuracy': 0.9568195939064026, 'val_loss': 0.3014974296092987, 'val_accuracy': 0.9294166564941406, '_timestamp': 1722846427.749947}).\n"
     ]
    },
    {
     "name": "stdout",
     "output_type": "stream",
     "text": [
      "76/76 [==============================] - 2s 29ms/step - loss: 0.0878 - accuracy: 0.9765 - val_loss: 0.3020 - val_accuracy: 0.9321\n",
      "Epoch 14/17\n",
      "52/76 [===================>..........] - ETA: 0s - loss: 0.0654 - accuracy: 0.9811"
     ]
    },
    {
     "name": "stderr",
     "output_type": "stream",
     "text": [
      "\u001b[34m\u001b[1mwandb\u001b[0m: \u001b[33mWARNING\u001b[0m (User provided step: 12 is less than current step: 16. Dropping entry: {'loss': 0.08779158443212509, 'accuracy': 0.9765413999557495, 'val_loss': 0.30204063653945923, 'val_accuracy': 0.9321154356002808, '_timestamp': 1722846429.9440668}).\n"
     ]
    },
    {
     "name": "stdout",
     "output_type": "stream",
     "text": [
      "76/76 [==============================] - 2s 27ms/step - loss: 0.0751 - accuracy: 0.9782 - val_loss: 0.3549 - val_accuracy: 0.9253\n",
      "Epoch 15/17\n",
      "51/76 [===================>..........] - ETA: 0s - loss: 0.1018 - accuracy: 0.9694"
     ]
    },
    {
     "name": "stderr",
     "output_type": "stream",
     "text": [
      "\u001b[34m\u001b[1mwandb\u001b[0m: \u001b[33mWARNING\u001b[0m (User provided step: 13 is less than current step: 16. Dropping entry: {'loss': 0.07512187212705612, 'accuracy': 0.978202223777771, 'val_loss': 0.3549244999885559, 'val_accuracy': 0.9252647161483765, '_timestamp': 1722846431.995158}).\n"
     ]
    },
    {
     "name": "stdout",
     "output_type": "stream",
     "text": [
      "76/76 [==============================] - 2s 26ms/step - loss: 0.1075 - accuracy: 0.9676 - val_loss: 0.3106 - val_accuracy: 0.9288\n",
      "Epoch 16/17\n",
      "49/76 [==================>...........] - ETA: 0s - loss: 0.0883 - accuracy: 0.9770"
     ]
    },
    {
     "name": "stderr",
     "output_type": "stream",
     "text": [
      "\u001b[34m\u001b[1mwandb\u001b[0m: \u001b[33mWARNING\u001b[0m (User provided step: 14 is less than current step: 16. Dropping entry: {'loss': 0.1075383722782135, 'accuracy': 0.9676147103309631, 'val_loss': 0.3106214106082916, 'val_accuracy': 0.9287938475608826, '_timestamp': 1722846433.9602811}).\n"
     ]
    },
    {
     "name": "stdout",
     "output_type": "stream",
     "text": [
      "76/76 [==============================] - 2s 27ms/step - loss: 0.0915 - accuracy: 0.9759 - val_loss: 0.3065 - val_accuracy: 0.9323\n",
      "Epoch 17/17\n",
      "47/76 [=================>............] - ETA: 0s - loss: 0.0728 - accuracy: 0.9791"
     ]
    },
    {
     "name": "stderr",
     "output_type": "stream",
     "text": [
      "\u001b[34m\u001b[1mwandb\u001b[0m: \u001b[33mWARNING\u001b[0m (User provided step: 15 is less than current step: 16. Dropping entry: {'loss': 0.09151672571897507, 'accuracy': 0.9759186506271362, 'val_loss': 0.3065442740917206, 'val_accuracy': 0.9323230385780334, '_timestamp': 1722846436.0134344}).\n"
     ]
    },
    {
     "name": "stdout",
     "output_type": "stream",
     "text": [
      "76/76 [==============================] - 2s 29ms/step - loss: 0.0655 - accuracy: 0.9807 - val_loss: 0.3048 - val_accuracy: 0.9363\n"
     ]
    },
    {
     "data": {
      "text/plain": [
       "<keras.src.callbacks.History at 0x7f669c5ffb50>"
      ]
     },
     "execution_count": 41,
     "metadata": {},
     "output_type": "execute_result"
    }
   ],
   "source": [
    "def log_metrics(epoch, logs):\n",
    "    wandb.log(logs, step=epoch)\n",
    "\n",
    "wandb_callback = tf.keras.callbacks.LambdaCallback(on_epoch_end=log_metrics)\n",
    "\n",
    "model.fit(\n",
    "    train,\n",
    "    train_label,\n",
    "    batch_size=64,\n",
    "    epochs=17,\n",
    "    validation_data=[val, val_label],\n",
    "    callbacks=[\n",
    "        tf.keras.callbacks.ModelCheckpoint('/home/vijay/journal_paper/model_p1_p2_p3_17epochs_1%.hdf5',\n",
    "                                            monitor='val_accuracy',\n",
    "                                            save_best_only=True,\n",
    "                                            save_weights_only=False),\n",
    "        wandb_callback\n",
    "    ]\n",
    ")"
   ]
  },
  {
   "cell_type": "code",
   "execution_count": 42,
   "metadata": {},
   "outputs": [
    {
     "name": "stdout",
     "output_type": "stream",
     "text": [
      "29805/29805 [==============================] - 224s 7ms/step\n",
      "Accuracy_Test: 0.9367621216505827\n",
      "Confusion Matrix:\n",
      " [[232102   1425    205    270    305   1932   1035]\n",
      " [  3161 116297   1396    940   1639   1801    863]\n",
      " [   939   1630  57194    971   2693    271    570]\n",
      " [  1892   2103   3791  90618   1847   2989   2137]\n",
      " [  1672   1078   2309   1437  55318   1763   1003]\n",
      " [  3970    406    257   1053    574 224331    699]\n",
      " [  3322    840    915    762    622    826 117575]]\n",
      "F1 Score: 0.9367621216505827\n",
      "{'Forward': 0.9782024157724825, 'Looking Down': 0.9222820527054569, 'Looking Up': 0.8899296695089314, 'Looking Left': 0.8599409738367955, 'Looking Right': 0.8565809848250232, 'Nodding': 0.9699122313978122, 'Shaking': 0.9416395700853742}\n"
     ]
    }
   ],
   "source": [
    "from sklearn.metrics import confusion_matrix, accuracy_score, f1_score\n",
    "y_pred = model.predict(X_testph3)\n",
    "y_predicted = np.argmax(y_pred, axis=1)\n",
    "ground_truth = np.argmax(y_testph3, axis=1)\n",
    "\n",
    "accuracy_test = accuracy_score(ground_truth, y_predicted)\n",
    "\n",
    "conf_matrix = confusion_matrix(ground_truth, y_predicted)\n",
    "\n",
    "f1 = f1_score(ground_truth, y_predicted, average='micro')\n",
    "\n",
    "print(\"Accuracy_Test:\", accuracy_test)\n",
    "print(\"Confusion Matrix:\\n\", conf_matrix)\n",
    "print(\"F1 Score:\", f1)\n",
    "\n",
    "headlabel_accuracy = {\"Forward\": 0.0, \"Looking Down\": 0.0, \"Looking Up\": 0.0, \"Looking Left\": 0.0, \"Looking Right\": 0.0, \"Nodding\": 0.0, \"Shaking\": 0.0}\n",
    "\n",
    "for i, headlabel in enumerate(headlabel_accuracy.keys()):\n",
    "    accuracy = conf_matrix[i, i] / conf_matrix[i].sum() if conf_matrix[i].sum() > 0 else 0.0\n",
    "    headlabel_accuracy[headlabel] = accuracy\n",
    "\n",
    "print(headlabel_accuracy)"
   ]
  }
 ],
 "metadata": {
  "kernelspec": {
   "display_name": "base",
   "language": "python",
   "name": "python3"
  },
  "language_info": {
   "codemirror_mode": {
    "name": "ipython",
    "version": 3
   },
   "file_extension": ".py",
   "mimetype": "text/x-python",
   "name": "python",
   "nbconvert_exporter": "python",
   "pygments_lexer": "ipython3",
   "version": "3.11.5"
  }
 },
 "nbformat": 4,
 "nbformat_minor": 2
}
